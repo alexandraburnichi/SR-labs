{
 "cells": [
  {
   "cell_type": "markdown",
   "id": "5f6f5caf",
   "metadata": {},
   "source": [
    "# Laboratorul 2"
   ]
  },
  {
   "cell_type": "markdown",
   "id": "65e5ef68",
   "metadata": {},
   "source": [
    "Connecting to Recombee"
   ]
  },
  {
   "cell_type": "code",
   "execution_count": 32,
   "id": "a2d1c0a1",
   "metadata": {},
   "outputs": [],
   "source": [
    "from recombee_api_client.api_client import RecombeeClient, Region\n",
    "from recombee_api_client.api_requests import *\n",
    "client = RecombeeClient('lex-books-db', 'UvxNmghZaizWLeUSjBOPVy1b90I3KlNhDNdN153MXILnXhWOJtjm34kbxXoamRKf', region=Region.EU_WEST)"
   ]
  },
  {
   "cell_type": "markdown",
   "id": "c62b8369",
   "metadata": {},
   "source": [
    "#### Adding data from the csv file to the database"
   ]
  },
  {
   "cell_type": "code",
   "execution_count": 33,
   "id": "80a8c7f7",
   "metadata": {},
   "outputs": [],
   "source": [
    "# imports for lab2\n",
    "import pandas as pd\n",
    "from recombee_api_client.api_requests import AddUserProperty, DeleteUserProperty, SetUserValues, Batch"
   ]
  },
  {
   "cell_type": "code",
   "execution_count": 34,
   "id": "aeb26566",
   "metadata": {},
   "outputs": [
    {
     "name": "stdout",
     "output_type": "stream",
     "text": [
      "Adding properties\n",
      "Added.\n"
     ]
    }
   ],
   "source": [
    "user_properties = ['sales_person', 'team', 'location', 'email']\n",
    "for prop in user_properties:\n",
    "    try:\n",
    "        client.send(DeleteUserProperty(prop))\n",
    "    except Exception as e:\n",
    "        pass \n",
    "\n",
    "requests = [\n",
    "    AddUserProperty('sales_person', 'string'),\n",
    "    AddUserProperty('team', 'string'),\n",
    "    AddUserProperty('location', 'string'),\n",
    "    AddUserProperty('email', 'string')\n",
    "]\n",
    "\n",
    "print(\"Adding properties\")\n",
    "for req in requests:\n",
    "    client.send(req)\n",
    "print(\"Added.\")"
   ]
  },
  {
   "cell_type": "markdown",
   "id": "e42e275a",
   "metadata": {},
   "source": [
    "Helper function for creating email addresses from the users' names and company (if the company is not specified we use '@company.com')"
   ]
  },
  {
   "cell_type": "code",
   "execution_count": 35,
   "id": "9fc1320b",
   "metadata": {},
   "outputs": [],
   "source": [
    "def create_email(name, team):\n",
    "    email_prefix = name.lower().replace(' ', '.')\n",
    "    email_suffix = '@' + team.lower() + '.com'\n",
    "    email = email_prefix + email_suffix\n",
    "    return email"
   ]
  },
  {
   "cell_type": "code",
   "execution_count": 36,
   "id": "94d169b7",
   "metadata": {},
   "outputs": [
    {
     "data": {
      "text/plain": [
       "[{'code': 200, 'json': 'ok'},\n",
       " {'code': 200, 'json': 'ok'},\n",
       " {'code': 200, 'json': 'ok'},\n",
       " {'code': 200, 'json': 'ok'},\n",
       " {'code': 200, 'json': 'ok'},\n",
       " {'code': 200, 'json': 'ok'},\n",
       " {'code': 200, 'json': 'ok'},\n",
       " {'code': 200, 'json': 'ok'},\n",
       " {'code': 200, 'json': 'ok'},\n",
       " {'code': 200, 'json': 'ok'},\n",
       " {'code': 200, 'json': 'ok'},\n",
       " {'code': 200, 'json': 'ok'},\n",
       " {'code': 200, 'json': 'ok'},\n",
       " {'code': 200, 'json': 'ok'},\n",
       " {'code': 200, 'json': 'ok'},\n",
       " {'code': 200, 'json': 'ok'},\n",
       " {'code': 200, 'json': 'ok'},\n",
       " {'code': 200, 'json': 'ok'},\n",
       " {'code': 200, 'json': 'ok'},\n",
       " {'code': 200, 'json': 'ok'},\n",
       " {'code': 200, 'json': 'ok'},\n",
       " {'code': 200, 'json': 'ok'},\n",
       " {'code': 200, 'json': 'ok'},\n",
       " {'code': 200, 'json': 'ok'},\n",
       " {'code': 200, 'json': 'ok'},\n",
       " {'code': 200, 'json': 'ok'},\n",
       " {'code': 200, 'json': 'ok'},\n",
       " {'code': 200, 'json': 'ok'},\n",
       " {'code': 200, 'json': 'ok'},\n",
       " {'code': 200, 'json': 'ok'},\n",
       " {'code': 200, 'json': 'ok'},\n",
       " {'code': 200, 'json': 'ok'},\n",
       " {'code': 200, 'json': 'ok'}]"
      ]
     },
     "execution_count": 36,
     "metadata": {},
     "output_type": "execute_result"
    }
   ],
   "source": [
    "user_df = pd.read_csv('people.csv')\n",
    "requests = []\n",
    "\n",
    "for _, row in user_df.iterrows():\n",
    "    user_id = str(row['SP ID'])\n",
    "    sales_person = str(row['Sales person'])\n",
    "    team = row.get('Team')\n",
    "    location = str(row.get('Location'))\n",
    "    if pd.isna(team):\n",
    "        email = sales_person.lower().replace(' ', '.') + '@company.com'\n",
    "        team_val = None\n",
    "    else:\n",
    "        email = create_email(sales_person, team)\n",
    "        team_val = str(team)\n",
    "\n",
    "    requests.append(\n",
    "        SetUserValues(\n",
    "            user_id,\n",
    "            {\n",
    "                'sales_person': sales_person,\n",
    "                'team': team_val,\n",
    "                'location': location,\n",
    "                'email': email\n",
    "            },\n",
    "            cascade_create=True\n",
    "        )\n",
    "    )\n",
    "\n",
    "client.send(Batch(requests))\n"
   ]
  }
 ],
 "metadata": {
  "kernelspec": {
   "display_name": "venv",
   "language": "python",
   "name": "python3"
  },
  "language_info": {
   "codemirror_mode": {
    "name": "ipython",
    "version": 3
   },
   "file_extension": ".py",
   "mimetype": "text/x-python",
   "name": "python",
   "nbconvert_exporter": "python",
   "pygments_lexer": "ipython3",
   "version": "3.11.9"
  }
 },
 "nbformat": 4,
 "nbformat_minor": 5
}
